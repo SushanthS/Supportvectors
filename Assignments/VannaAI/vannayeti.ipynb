{
 "cells": [
  {
   "cell_type": "code",
   "execution_count": 2,
   "metadata": {},
   "outputs": [
    {
     "ename": "TypeError",
     "evalue": "ApiKey.__init__() got an unexpected keyword argument 'message'",
     "output_type": "error",
     "traceback": [
      "\u001b[0;31m---------------------------------------------------------------------------\u001b[0m",
      "\u001b[0;31mTypeError\u001b[0m                                 Traceback (most recent call last)",
      "Cell \u001b[0;32mIn[2], line 3\u001b[0m\n\u001b[1;32m      1\u001b[0m \u001b[38;5;28;01mimport\u001b[39;00m \u001b[38;5;21;01mvanna\u001b[39;00m\n\u001b[1;32m      2\u001b[0m \u001b[38;5;28;01mfrom\u001b[39;00m \u001b[38;5;21;01mvanna\u001b[39;00m\u001b[38;5;21;01m.\u001b[39;00m\u001b[38;5;21;01mremote\u001b[39;00m \u001b[38;5;28;01mimport\u001b[39;00m VannaDefault\n\u001b[0;32m----> 3\u001b[0m vn \u001b[38;5;241m=\u001b[39m VannaDefault(model\u001b[38;5;241m=\u001b[39m\u001b[38;5;124m'\u001b[39m\u001b[38;5;124mchinook\u001b[39m\u001b[38;5;124m'\u001b[39m, api_key\u001b[38;5;241m=\u001b[39m\u001b[43mvanna\u001b[49m\u001b[38;5;241;43m.\u001b[39;49m\u001b[43mget_api_key\u001b[49m\u001b[43m(\u001b[49m\u001b[38;5;124;43m'\u001b[39;49m\u001b[38;5;124;43me2d5934bd041425b818848ba7c4f6111\u001b[39;49m\u001b[38;5;124;43m'\u001b[39;49m\u001b[43m)\u001b[49m)\n\u001b[1;32m      4\u001b[0m vn\u001b[38;5;241m.\u001b[39mconnect_to_sqlite(\u001b[38;5;124m'\u001b[39m\u001b[38;5;124mChinook.sqlite\u001b[39m\u001b[38;5;124m'\u001b[39m)\n\u001b[1;32m      5\u001b[0m vn\u001b[38;5;241m.\u001b[39mask(\u001b[38;5;124m\"\u001b[39m\u001b[38;5;124mWhat are the top 10 albums by sales?\u001b[39m\u001b[38;5;124m\"\u001b[39m)\n",
      "File \u001b[0;32m~/.conda/envs/pyvanna/lib/python3.11/site-packages/vanna/__init__.py:123\u001b[0m, in \u001b[0;36mget_api_key\u001b[0;34m(email, otp_code)\u001b[0m\n\u001b[1;32m    120\u001b[0m \u001b[38;5;28;01mif\u001b[39;00m \u001b[38;5;124m\"\u001b[39m\u001b[38;5;124mresult\u001b[39m\u001b[38;5;124m\"\u001b[39m \u001b[38;5;129;01mnot\u001b[39;00m \u001b[38;5;129;01min\u001b[39;00m d:\n\u001b[1;32m    121\u001b[0m     \u001b[38;5;28;01mraise\u001b[39;00m OTPCodeError(\u001b[38;5;124m\"\u001b[39m\u001b[38;5;124mError verifying OTP code.\u001b[39m\u001b[38;5;124m\"\u001b[39m)\n\u001b[0;32m--> 123\u001b[0m key \u001b[38;5;241m=\u001b[39m \u001b[43mApiKey\u001b[49m\u001b[43m(\u001b[49m\u001b[38;5;241;43m*\u001b[39;49m\u001b[38;5;241;43m*\u001b[39;49m\u001b[43md\u001b[49m\u001b[43m[\u001b[49m\u001b[38;5;124;43m\"\u001b[39;49m\u001b[38;5;124;43mresult\u001b[39;49m\u001b[38;5;124;43m\"\u001b[39;49m\u001b[43m]\u001b[49m\u001b[43m)\u001b[49m\n\u001b[1;32m    125\u001b[0m \u001b[38;5;28;01mif\u001b[39;00m key \u001b[38;5;129;01mis\u001b[39;00m \u001b[38;5;28;01mNone\u001b[39;00m:\n\u001b[1;32m    126\u001b[0m     \u001b[38;5;28;01mraise\u001b[39;00m OTPCodeError(\u001b[38;5;124m\"\u001b[39m\u001b[38;5;124mError verifying OTP code.\u001b[39m\u001b[38;5;124m\"\u001b[39m)\n",
      "\u001b[0;31mTypeError\u001b[0m: ApiKey.__init__() got an unexpected keyword argument 'message'"
     ]
    }
   ],
   "source": [
    "import vanna\n",
    "from vanna.remote import VannaDefault\n",
    "vn = VannaDefault(model='chinook', api_key=vanna.get_api_key('e2d5934bd041425b818848ba7c4f6111'))\n",
    "vn.connect_to_sqlite('Chinook.sqlite')\n",
    "vn.ask(\"What are the top 10 albums by sales?\")"
   ]
  },
  {
   "cell_type": "code",
   "execution_count": null,
   "metadata": {},
   "outputs": [],
   "source": [
    "from vanna.flask import VannaFlaskApp\n",
    "VannaFlaskApp(vn).run()"
   ]
  }
 ],
 "metadata": {
  "kernelspec": {
   "display_name": "pyvanna",
   "language": "python",
   "name": "python3"
  },
  "language_info": {
   "codemirror_mode": {
    "name": "ipython",
    "version": 3
   },
   "file_extension": ".py",
   "mimetype": "text/x-python",
   "name": "python",
   "nbconvert_exporter": "python",
   "pygments_lexer": "ipython3",
   "version": "3.11.9"
  }
 },
 "nbformat": 4,
 "nbformat_minor": 2
}
